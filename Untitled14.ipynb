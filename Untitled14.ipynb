{
  "nbformat": 4,
  "nbformat_minor": 0,
  "metadata": {
    "colab": {
      "provenance": [],
      "gpuType": "T4"
    },
    "kernelspec": {
      "name": "python3",
      "display_name": "Python 3"
    },
    "language_info": {
      "name": "python"
    },
    "accelerator": "GPU"
  },
  "cells": [
    {
      "cell_type": "code",
      "source": [
        "import pyttsx3\n",
        "import pdfplumber\n",
        "import tempfile\n",
        "from PyPDF2 import PdfReader\n",
        "\n",
        "# Path to the PDF file\n",
        "pdf_file = \"/content/Mans Search for meaning.pdf\"\n",
        "\n",
        "# Initialize the text-to-speech engine\n",
        "engine = pyttsx3.init()\n",
        "\n",
        "# Open the PDF file\n",
        "with pdfplumber.open(pdf_file) as pdf:\n",
        "    # Create a temporary file to save the audiobook\n",
        "    with tempfile.NamedTemporaryFile(suffix=\".wav\", delete=False) as temp_file:\n",
        "        # Iterate over each page\n",
        "        for page_number in range(len(pdf.pages)):\n",
        "            # Extract the text from the page\n",
        "            page = pdf.pages[page_number]\n",
        "            text = page.extract_text()\n",
        "\n",
        "            # Read the text aloud\n",
        "            engine.save_to_file(text, temp_file.name)\n",
        "            engine.runAndWait()\n",
        "\n",
        "        # Get the path of the audiobook file\n",
        "        audiobook_path = temp_file.name\n",
        "\n",
        "# Download the audiobook file\n",
        "files.download(audiobook_path)\n"
      ],
      "metadata": {
        "id": "NukMBODUDH4G"
      },
      "execution_count": null,
      "outputs": []
    },
    {
      "cell_type": "code",
      "source": [],
      "metadata": {
        "id": "3YYKydnxDk1d"
      },
      "execution_count": null,
      "outputs": []
    }
  ]
}